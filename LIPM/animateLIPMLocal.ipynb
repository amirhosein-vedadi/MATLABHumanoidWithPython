{
 "cells": [
  {
   "cell_type": "code",
   "execution_count": 1,
   "id": "64b05d39",
   "metadata": {},
   "outputs": [],
   "source": [
    "import numpy as np\n",
    "import pickle\n",
    "\n",
    "from get_swing_foot_traj import *\n",
    "from robot import *"
   ]
  },
  {
   "cell_type": "code",
   "execution_count": 2,
   "id": "ecbbdcd9",
   "metadata": {},
   "outputs": [],
   "source": [
    "with open('step_infos', 'rb') as step_infos_file:\n",
    "    step_infos = pickle.load(step_infos_file)\n",
    "foot_infos = []"
   ]
  },
  {
   "cell_type": "markdown",
   "id": "0059c9f5",
   "metadata": {},
   "source": [
    "Move the COM above one foot"
   ]
  },
  {
   "cell_type": "code",
   "execution_count": 10,
   "id": "e183f25e",
   "metadata": {
    "tags": []
   },
   "outputs": [
    {
     "name": "stdout",
     "output_type": "stream",
     "text": [
      "[-0.12       -0.12000601 -0.12002396 -0.12005373 -0.12009519 -0.12014824\n",
      " -0.12021274 -0.12028858 -0.12037563 -0.12047378 -0.1205829  -0.12070288\n",
      " -0.12083359 -0.12097491 -0.12112673 -0.12128891 -0.12146135 -0.12164392\n",
      " -0.1218365  -0.12203896 -0.1222512  -0.12247308 -0.1227045  -0.12294531\n",
      " -0.12319542 -0.12345469 -0.123723   -0.12400024 -0.12428628 -0.12458101\n",
      " -0.1248843  -0.12519603 -0.12551608 -0.12584434 -0.12618067 -0.12652496\n",
      " -0.12687709 -0.12723694 -0.12760439 -0.12797932 -0.1283616  -0.12875112\n",
      " -0.12914775 -0.12955138 -0.12996188 -0.13037914 -0.13080303 -0.13123343\n",
      " -0.13167022 -0.13211329 -0.1325625  -0.13301774 -0.1334789  -0.13394584\n",
      " -0.13441845 -0.13489661 -0.1353802  -0.13586909 -0.13636317 -0.13686231\n",
      " -0.1373664  -0.13787531 -0.13838893 -0.13890713 -0.13942979 -0.13995679\n",
      " -0.14048801 -0.14102333 -0.14156264 -0.1421058  -0.1426527  -0.14320322\n",
      " -0.14375724 -0.14431463 -0.14487528 -0.14543906 -0.14600586 -0.14657556\n",
      " -0.14714802 -0.14772315 -0.1483008  -0.14888087 -0.14946322 -0.15004775\n",
      " -0.15063433 -0.15122284 -0.15181315 -0.15240516 -0.15299873 -0.15359375\n",
      " -0.1541901  -0.15478765 -0.15538629 -0.15598589 -0.15658634 -0.15718751\n",
      " -0.15778929 -0.15839154 -0.15899416 -0.15959702 -0.1602     -0.16080298\n",
      " -0.16140584 -0.16200846 -0.16261071 -0.16321249 -0.16381366 -0.16441411\n",
      " -0.16501371 -0.16561235 -0.1662099  -0.16680625 -0.16740127 -0.16799484\n",
      " -0.16858685 -0.16917716 -0.16976567 -0.17035225 -0.17093678 -0.17151913\n",
      " -0.1720992  -0.17267685 -0.17325198 -0.17382444 -0.17439414 -0.17496094\n",
      " -0.17552472 -0.17608537 -0.17664276 -0.17719678 -0.1777473  -0.1782942\n",
      " -0.17883736 -0.17937667 -0.17991199 -0.18044321 -0.18097021 -0.18149287\n",
      " -0.18201107 -0.18252469 -0.1830336  -0.18353769 -0.18403683 -0.18453091\n",
      " -0.1850198  -0.18550339 -0.18598155 -0.18645416 -0.1869211  -0.18738226\n",
      " -0.1878375  -0.18828671 -0.18872978 -0.18916657 -0.18959697 -0.19002086\n",
      " -0.19043812 -0.19084862 -0.19125225 -0.19164888 -0.1920384  -0.19242068\n",
      " -0.19279561 -0.19316306 -0.19352291 -0.19387504 -0.19421933 -0.19455566\n",
      " -0.19488392 -0.19520397 -0.1955157  -0.19581899 -0.19611372 -0.19639976\n",
      " -0.196677   -0.19694531 -0.19720458 -0.19745469 -0.1976955  -0.19792692\n",
      " -0.1981488  -0.19836104 -0.1985635  -0.19875608 -0.19893865 -0.19911109\n",
      " -0.19927327 -0.19942509 -0.19956641 -0.19969712 -0.1998171  -0.19992622\n",
      " -0.20002437 -0.20011142 -0.20018726 -0.20025176 -0.20030481 -0.20034627\n",
      " -0.20037604 -0.20039399]\n"
     ]
    }
   ],
   "source": [
    "idx = 0\n",
    "X_TORSO = 0.12\n",
    "\n",
    "new_state = step_infos[idx].state\n",
    "body_pos_rel = new_state[np.ix_([0, 2, 4]), :].reshape(3, -1)\n",
    "\n",
    "body_pos_abs = body_pos_rel + step_infos[idx].footplant\n",
    "stance_foot_pos_rel = np.array([[-1], [1], [-1], [1], [-1], [1]]) * new_state\n",
    "\n",
    "l_foot = stance_foot_pos_rel\n",
    "r_foot = l_foot + np.array([[2 * X_TORSO], [0], [0], [0], [0], [0]])\n",
    "finfo = FootInfo(step_infos[idx].time_vec, l_foot, r_foot)\n",
    "foot_infos.append(finfo)"
   ]
  },
  {
   "cell_type": "markdown",
   "id": "3b05ab4f",
   "metadata": {},
   "source": [
    "Make a half step"
   ]
  },
  {
   "cell_type": "code",
   "execution_count": 4,
   "id": "b9f9095d",
   "metadata": {},
   "outputs": [],
   "source": [
    "idx = 1\n",
    "SWING_HEIGHT = 0.1\n",
    "SAMPLE_TIME = 0.005\n",
    "\n",
    "new_state = step_infos[idx].state\n",
    "body_pos_rel = new_state[np.ix_([0, 2, 4]), :].reshape(3, -1)\n",
    "body_pos_abs = body_pos_rel + step_infos[idx].footplant\n",
    "stance_foot_pos_rel = np.array([[-1], [1], [-1], [1], [-1], [1]]) * new_state\n",
    "\n",
    "swing_abs = step_infos[idx].swing\n",
    "foot_pos0 = swing_abs[:, 0] - body_pos_abs[:, 0]\n",
    "foot_pos1 = swing_abs[:, -1] - body_pos_abs[:, -1]\n",
    "\n",
    "time_stp0 = step_infos[idx].time_vec[0]\n",
    "time_stp1 = step_infos[idx].time_vec[-1]\n",
    "[q_swing_rel, qd_swing_rel, qdd_swing_rel] = get_swing_foot_traj(foot_pos0, foot_pos1,\n",
    "                                                     SWING_HEIGHT, time_stp0, time_stp1, SAMPLE_TIME)\n",
    "swing_pos = q_swing_rel + body_pos_abs\n",
    "swing_foot_state = np.array([q_swing_rel[0, :], qd_swing_rel[0, :], q_swing_rel[1, :], qd_swing_rel[1, :],\n",
    "                             q_swing_rel[2, :], qd_swing_rel[2, :]])\n",
    "\n",
    "if step_infos[idx].mode == 'singlesupportleft':\n",
    "    l_foot = stance_foot_pos_rel\n",
    "    r_foot = swing_foot_state\n",
    "    finfo = FootInfo(step_infos[idx].time_vec, l_foot, r_foot)\n",
    "    foot_infos.append(finfo)\n",
    "elif step_infos[idx].mode == 'singlesupportright':\n",
    "    l_foot = swing_foot_state\n",
    "    r_foot = stance_foot_pos_rel\n",
    "    finfo = FootInfo(step_infos[idx].time_vec, l_foot, r_foot)\n",
    "    foot_infos.append(finfo)"
   ]
  },
  {
   "cell_type": "markdown",
   "id": "a32f5431",
   "metadata": {},
   "source": [
    "Consecutive Steps"
   ]
  },
  {
   "cell_type": "code",
   "execution_count": 5,
   "id": "61bc40b7",
   "metadata": {},
   "outputs": [],
   "source": [
    "for idx in range(2, len(step_infos)):\n",
    "    \n",
    "    curmode = step_infos[idx].mode\n",
    "    new_state = step_infos[idx].state\n",
    "    body_pos_rel = new_state[np.ix_([0, 2, 4]), :].reshape(3, -1)\n",
    "    body_pos_abs = body_pos_rel + step_infos[idx].footplant\n",
    "    stance_foot_pos_rel = np.array([[-1], [1], [-1], [1], [-1], [1]]) * new_state\n",
    "    \n",
    "    swing_abs = step_infos[idx].swing\n",
    "    foot_pos0 = swing_abs[:, 0] - body_pos_abs[:, 0]\n",
    "    foot_pos1 = swing_abs[:, -1] - body_pos_abs[:, -1]\n",
    "    \n",
    "    time_stp0 = step_infos[idx].time_vec[0]\n",
    "    time_stp1 = step_infos[idx].time_vec[-1]\n",
    "\n",
    "    [q_swing_rel, qd_swing_rel, qdd_swing_rel] = get_swing_foot_traj(foot_pos0, foot_pos1,\n",
    "                                                         SWING_HEIGHT, time_stp0, time_stp1, SAMPLE_TIME)\n",
    "    \n",
    "    swing_pos = q_swing_rel + body_pos_abs\n",
    "    swing_foot_state = np.array([q_swing_rel[0, :], qd_swing_rel[0, :], q_swing_rel[1, :], qd_swing_rel[1, :],\n",
    "                                 q_swing_rel[2, :], qd_swing_rel[2, :]])\n",
    "    \n",
    "    if step_infos[idx].mode == 'singlesupportleft':\n",
    "        l_foot = stance_foot_pos_rel\n",
    "        r_foot = swing_foot_state\n",
    "        finfo = FootInfo(step_infos[idx].time_vec, l_foot, r_foot)\n",
    "        foot_infos.append(finfo)\n",
    "    elif step_infos[idx].mode == 'singlesupportright':\n",
    "        l_foot = swing_foot_state\n",
    "        r_foot = stance_foot_pos_rel\n",
    "        finfo = FootInfo(step_infos[idx].time_vec, l_foot, r_foot)\n",
    "        foot_infos.append(finfo) "
   ]
  },
  {
   "cell_type": "code",
   "execution_count": 6,
   "id": "d159b553",
   "metadata": {},
   "outputs": [],
   "source": [
    "with open('foot_infos', 'wb') as foot_infos_file:\n",
    "    pickle.dump(foot_infos, foot_infos_file)"
   ]
  },
  {
   "cell_type": "code",
   "execution_count": 7,
   "id": "4a25493f",
   "metadata": {},
   "outputs": [
    {
     "data": {
      "text/plain": [
       "array([[-1.17770839e-01,  0.00000000e+00, -9.80722485e-02,\n",
       "         0.00000000e+00, -6.80000000e-01,  0.00000000e+00],\n",
       "       [-1.17770932e-01, -3.73267273e-05, -9.80639464e-02,\n",
       "         3.31666882e-03, -6.79983276e-01,  6.67275832e-03],\n",
       "       [-1.17771212e-01, -7.43730133e-05, -9.80391233e-02,\n",
       "         6.60841902e-03, -6.79933440e-01,  1.32448717e-02],\n",
       "       ...,\n",
       "       [-1.19999542e-01, -8.17486176e-05,  9.99592732e-02,\n",
       "         7.26377883e-03, -6.79918873e-01, -1.45471193e-02],\n",
       "       [-1.19999858e-01, -4.47584198e-05,  9.99873855e-02,\n",
       "         3.97701235e-03, -6.79975270e-01, -7.99517890e-03],\n",
       "       [-1.19999989e-01, -7.48778075e-06,  9.99990018e-02,\n",
       "         6.65327254e-04, -6.79998657e-01, -1.34259424e-03]])"
      ]
     },
     "execution_count": 7,
     "metadata": {},
     "output_type": "execute_result"
    }
   ],
   "source": [
    "foot_infos[-1].foot_left.T"
   ]
  }
 ],
 "metadata": {
  "kernelspec": {
   "display_name": "Python 3",
   "language": "python",
   "name": "python3"
  },
  "language_info": {
   "codemirror_mode": {
    "name": "ipython",
    "version": 3
   },
   "file_extension": ".py",
   "mimetype": "text/x-python",
   "name": "python",
   "nbconvert_exporter": "python",
   "pygments_lexer": "ipython3",
   "version": "3.8.8"
  }
 },
 "nbformat": 4,
 "nbformat_minor": 5
}
