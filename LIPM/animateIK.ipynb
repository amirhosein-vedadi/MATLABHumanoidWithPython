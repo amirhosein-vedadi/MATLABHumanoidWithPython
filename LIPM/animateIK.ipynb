{
 "cells": [
  {
   "cell_type": "code",
   "execution_count": 1,
   "id": "62ee184b-164f-42bd-a362-e219f24f1735",
   "metadata": {},
   "outputs": [],
   "source": [
    "import numpy as np\n",
    "import pickle\n",
    "\n",
    "from inv_kin_body2foot import *\n",
    "from robot import *"
   ]
  },
  {
   "cell_type": "code",
   "execution_count": 2,
   "id": "63316b08-9bdf-4b88-a5e2-4a66b9e0446e",
   "metadata": {},
   "outputs": [],
   "source": [
    "with open('foot_infos', 'rb') as foot_infos_file:\n",
    "    foot_infos = pickle.load(foot_infos_file)"
   ]
  },
  {
   "cell_type": "code",
   "execution_count": 3,
   "id": "5f797837-19eb-4684-8f27-64b1243b229b",
   "metadata": {},
   "outputs": [],
   "source": [
    "n = np.array([[0], [0], [-1]])\n",
    "s = np.array([[-1], [0], [0]])\n",
    "a = np.array([[0], [1], [0]])\n",
    "R = np.block([n, s, a])\n",
    "\n",
    "for fidx in range(len(foot_infos)):\n",
    "    statel = foot_infos[fidx].foot_left[np.ix_([0, 2, 4]), :].reshape(3, -1)\n",
    "    stater = foot_infos[fidx].foot_right[np.ix_([0, 2, 4]), :].reshape(3, -1)\n",
    "    \n",
    "    num_idx = statel.shape[1]\n",
    "    joints_left = np.zeros((6, num_idx))\n",
    "    joints_right = np.zeros((6, num_idx))\n",
    "    trans_mat_left = np.zeros((4, 4, num_idx))\n",
    "    trans_mat_right = np.zeros((4, 4, num_idx))\n",
    "    \n",
    "    for sidx in range(num_idx):\n",
    "        p = statel[:, sidx].reshape(3, -1)\n",
    "        trans_mat = np.block([[R, p],[0, 0, 0, 1]])\n",
    "        is_left = True\n",
    "        q_left = inv_kin_body2foot(trans_mat.copy(), is_left)\n",
    "        joints_left[:, sidx] = q_left\n",
    "        trans_mat_left[:, :, sidx] = trans_mat\n",
    "\n",
    "        p = stater[:, sidx].reshape(3, -1)\n",
    "        trans_mat = np.block([[R, p], [0, 0, 0, 1]])\n",
    "        is_left = False\n",
    "        q_right = inv_kin_body2foot(trans_mat.copy(), is_left)\n",
    "        joints_right[:, sidx] = q_right\n",
    "        trans_mat_right[:, :, sidx] = trans_mat\n",
    "        \n",
    "    foot_infos[fidx].set_joints_left(joints_left)\n",
    "    foot_infos[fidx].set_joints_right(joints_right)\n",
    "    foot_infos[fidx].set_trans_mat_left(trans_mat_left)\n",
    "    foot_infos[fidx].set_trans_mat_right(trans_mat_right)"
   ]
  },
  {
   "cell_type": "code",
   "execution_count": 16,
   "id": "6657453d-0380-4724-a758-d28cde8909ff",
   "metadata": {},
   "outputs": [
    {
     "data": {
      "text/plain": [
       "array([[ 0.        , -1.        ,  0.        , -0.11847381],\n",
       "       [ 0.        ,  0.        ,  1.        , -0.03560956],\n",
       "       [-1.        ,  0.        ,  0.        , -0.59579375],\n",
       "       [ 0.        ,  0.        ,  0.        ,  1.        ]])"
      ]
     },
     "execution_count": 16,
     "metadata": {},
     "output_type": "execute_result"
    }
   ],
   "source": [
    "foot_infos[7].trans_mat_left[:, :, 100]"
   ]
  }
 ],
 "metadata": {
  "kernelspec": {
   "display_name": "Python 3",
   "language": "python",
   "name": "python3"
  },
  "language_info": {
   "codemirror_mode": {
    "name": "ipython",
    "version": 3
   },
   "file_extension": ".py",
   "mimetype": "text/x-python",
   "name": "python",
   "nbconvert_exporter": "python",
   "pygments_lexer": "ipython3",
   "version": "3.9.1"
  }
 },
 "nbformat": 4,
 "nbformat_minor": 5
}
