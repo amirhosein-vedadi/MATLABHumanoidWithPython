{
 "cells": [
  {
   "cell_type": "code",
   "execution_count": 1,
   "metadata": {},
   "outputs": [],
   "source": [
    "import numpy as np\n",
    "import pickle\n",
    "import pybullet\n",
    "import pybullet_data\n",
    "import time\n",
    "\n",
    "from robot import *"
   ]
  },
  {
   "cell_type": "code",
   "execution_count": 2,
   "metadata": {},
   "outputs": [],
   "source": [
    "with open('foot_joint_infos', 'rb') as foot_joint_infos_file:\n",
    "    foot_infos = pickle.load(foot_joint_infos_file)"
   ]
  },
  {
   "cell_type": "code",
   "execution_count": 3,
   "metadata": {},
   "outputs": [],
   "source": [
    "phisycsClient = pybullet.connect(pybullet.GUI)\n",
    "pybullet.setAdditionalSearchPath(pybullet_data.getDataPath())"
   ]
  },
  {
   "cell_type": "code",
   "execution_count": 4,
   "metadata": {},
   "outputs": [],
   "source": [
    "pybullet.resetSimulation()\n",
    "planeID = pybullet.loadURDF(\"plane.urdf\")\n",
    "pybullet.setGravity(0,0,-9.81)\n",
    "robotID = pybullet.loadURDF(\"Assem1/urdf/Assem1.urdf\",\n",
    "                            [0.0, 0.0, 0.9],pybullet.getQuaternionFromEuler([0.0,0.0,0.0]),\n",
    "                            useFixedBase = 0)\n"
   ]
  },
  {
   "cell_type": "code",
   "execution_count": 5,
   "metadata": {},
   "outputs": [
    {
     "name": "stdout",
     "output_type": "stream",
     "text": [
      "(0, b'r_hip_yaw_joint')\n",
      "(1, b'r_hip_roll_joint')\n",
      "(2, b'r_hip_pitch_joint')\n",
      "(3, b'r_knee_pitch_joint')\n",
      "(4, b'r_ankle_pitch_joint')\n",
      "(5, b'r_ankle_roll_joint')\n",
      "(6, b'l_hip_yaw_joint')\n",
      "(7, b'l_hip_roll_joint')\n",
      "(8, b'l_hip_pitch_joint')\n",
      "(9, b'l_knee_pitch_joint')\n",
      "(10, b'l_ankle_pitch_joint')\n",
      "(11, b'l_ankle_roll_joint')\n"
     ]
    }
   ],
   "source": [
    "pybullet.setRealTimeSimulation(1)\n",
    "for index in range(pybullet.getNumJoints(robotID)):\n",
    "    print(pybullet.getJointInfo(robotID,index)[0:2])\n",
    "    \n",
    "for fidx in range(len(foot_infos)):\n",
    "    time_vec = foot_infos[fidx].time_vec\n",
    "    for sidx in range(time_vec.size):\n",
    "        for tidx in range(6):\n",
    "            #left foot\n",
    "            pybullet.setJointMotorControl2(bodyIndex=robotID,\n",
    "                                    jointIndex=tidx,\n",
    "                                    controlMode=pybullet.POSITION_CONTROL,\n",
    "                                    targetPosition = foot_infos[fidx].joints_left[tidx, sidx])\n",
    "            #right foot\n",
    "            pybullet.setJointMotorControl2(bodyIndex=robotID,\n",
    "                                    jointIndex=6+tidx,\n",
    "                                    controlMode=pybullet.POSITION_CONTROL,\n",
    "                                    targetPosition = foot_infos[fidx].joints_right[tidx, sidx])\n",
    "            time.sleep(0.001)"
   ]
  }
 ],
 "metadata": {
  "kernelspec": {
   "display_name": "Python 3",
   "language": "python",
   "name": "python3"
  },
  "language_info": {
   "codemirror_mode": {
    "name": "ipython",
    "version": 3
   },
   "file_extension": ".py",
   "mimetype": "text/x-python",
   "name": "python",
   "nbconvert_exporter": "python",
   "pygments_lexer": "ipython3",
   "version": "3.8.8"
  }
 },
 "nbformat": 4,
 "nbformat_minor": 4
}
