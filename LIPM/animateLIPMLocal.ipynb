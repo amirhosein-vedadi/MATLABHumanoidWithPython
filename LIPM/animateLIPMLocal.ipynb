{
 "cells": [
  {
   "cell_type": "code",
   "execution_count": 17,
   "id": "59aee5c6-4755-4d2f-a563-5da324cbe323",
   "metadata": {},
   "outputs": [],
   "source": [
    "import numpy as np\n",
    "import pickle\n",
    "\n",
    "from get_swing_foot_traj import *"
   ]
  },
  {
   "cell_type": "code",
   "execution_count": 18,
   "id": "b9a93894-36d3-48fd-a396-12080df5ed91",
   "metadata": {},
   "outputs": [],
   "source": [
    "class StepInfo():\n",
    "    def __init__(self, index, state, time_vec, mode, footplant, swing=None):\n",
    "        self.index = index\n",
    "        self.state = state\n",
    "        self.time_vec = time_vec\n",
    "        self.mode = mode\n",
    "        self.footplant = footplant\n",
    "        self.swing = swing\n",
    "\n",
    "with open('step_infos', 'rb') as step_infos_file:\n",
    "    step_infos = pickle.load(step_infos_file)"
   ]
  },
  {
   "cell_type": "code",
   "execution_count": 19,
   "id": "dd6b2482-e098-4ed1-89e8-d1dac69ca7cd",
   "metadata": {},
   "outputs": [],
   "source": [
    "class FootInfo():\n",
    "    def __init__(self, time_vec, foot_left, foot_right):\n",
    "        self.time_vec = time_vec\n",
    "        self.foot_left = foot_left\n",
    "        self.foot_right = foot_right\n",
    "        \n",
    "foot_infos = []"
   ]
  },
  {
   "cell_type": "markdown",
   "id": "36c962ff-a2fa-4b13-98d8-5aa9902ba917",
   "metadata": {},
   "source": [
    "Move the COM above one foot"
   ]
  },
  {
   "cell_type": "code",
   "execution_count": 20,
   "id": "279608a4-9dee-4c41-895e-a9902de93ce8",
   "metadata": {},
   "outputs": [],
   "source": [
    "idx = 0\n",
    "X_TORSO = 0.12\n",
    "\n",
    "new_state = step_infos[idx].state\n",
    "body_pos_rel = new_state[np.ix_([0, 2, 4]), :].reshape(3, -1)\n",
    "body_pos_abs = body_pos_rel + step_infos[idx].footplant\n",
    "stance_foot_pos_rel = np.array([[-1], [1], [-1], [1], [-1], [1]]) * new_state\n",
    "\n",
    "l_foot = stance_foot_pos_rel\n",
    "r_foot = l_foot + np.array([[2 * X_TORSO], [0], [0], [0], [0], [0]])\n",
    "finfo = FootInfo(step_infos[idx].time_vec, l_foot, r_foot)\n",
    "foot_infos.append(finfo)"
   ]
  },
  {
   "cell_type": "markdown",
   "id": "063bf413-baeb-4475-99f8-21435f0464c1",
   "metadata": {},
   "source": [
    "Make a half step"
   ]
  },
  {
   "cell_type": "code",
   "execution_count": 21,
   "id": "2246632c-8609-4195-b39a-0d162d69b1d4",
   "metadata": {},
   "outputs": [],
   "source": [
    "idx = 1\n",
    "SWING_HEIGHT = 0.1\n",
    "SAMPLE_TIME = 0.005\n",
    "\n",
    "new_state = step_infos[idx].state\n",
    "body_pos_rel = new_state[np.ix_([0, 2, 4]), :].reshape(3, -1)\n",
    "body_pos_abs = body_pos_rel + step_infos[idx].footplant\n",
    "stance_foot_pos_rel = np.array([[-1], [1], [-1], [1], [-1], [1]]) * new_state\n",
    "\n",
    "swing_abs = step_infos[idx].swing\n",
    "foot_pos0 = swing_abs[:, 0] - body_pos_abs[:, 0]\n",
    "foot_pos1 = swing_abs[:, -1] - body_pos_abs[:, -1]\n",
    "\n",
    "time_stp0 = step_infos[idx].time_vec[0]\n",
    "time_stp1 = step_infos[idx].time_vec[-1]\n",
    "[q_swing_rel, qd_swing_rel, qdd_swing_rel] = get_swing_foot_traj(foot_pos0, foot_pos1,\n",
    "                                                     SWING_HEIGHT, time_stp0, time_stp1, SAMPLE_TIME)\n",
    "swing_pos = q_swing_rel + body_pos_abs\n",
    "swing_foot_state = np.array([q_swing_rel[0, :], qd_swing_rel[0, :], q_swing_rel[1, :], qd_swing_rel[1, :],\n",
    "                             q_swing_rel[2, :], qd_swing_rel[2, :]])\n",
    "\n",
    "if step_infos[idx].mode == 'singlesupportleft':\n",
    "    l_foot = stance_foot_pos_rel\n",
    "    r_foot = swing_foot_state\n",
    "    finfo = FootInfo(step_infos[idx].time_vec, l_foot, r_foot)\n",
    "    foot_infos.append(finfo)\n",
    "elif step_infos[idx].mode == 'singlesupportright':\n",
    "    l_foot = swing_foot_state\n",
    "    r_foot = stance_foot_pos_rel\n",
    "    finfo = FootInfo(step_infos[idx].time_vec, l_foot, r_foot)\n",
    "    foot_infos.append(finfo)"
   ]
  },
  {
   "cell_type": "markdown",
   "id": "d926815e-348e-4634-bc4c-13e91eeceeb2",
   "metadata": {},
   "source": [
    "Consecutive Steps"
   ]
  },
  {
   "cell_type": "code",
   "execution_count": 22,
   "id": "622dbf66-3306-4bcb-b264-42b0fcda418b",
   "metadata": {},
   "outputs": [],
   "source": [
    "for idx in range(2, len(step_infos)):\n",
    "    \n",
    "    curmode = step_infos[idx].mode\n",
    "    new_state = step_infos[idx].state\n",
    "    body_pos_rel = new_state[np.ix_([0, 2, 4]), :].reshape(3, -1)\n",
    "    body_pos_abs = body_pos_rel + step_infos[idx].footplant\n",
    "    stance_foot_pos_rel = np.array([[-1], [1], [-1], [1], [-1], [1]]) * new_state\n",
    "    \n",
    "    swing_abs = step_infos[idx].swing\n",
    "    foot_pos0 = swing_abs[:, 0] - body_pos_abs[:, 0]\n",
    "    foot_pos1 = swing_abs[:, -1] - body_pos_abs[:, -1]\n",
    "    \n",
    "    time_stp0 = step_infos[idx].time_vec[0]\n",
    "    time_stp1 = step_infos[idx].time_vec[-1]\n",
    "\n",
    "    [q_swing_rel, qd_swing_rel, qdd_swing_rel] = get_swing_foot_traj(foot_pos0, foot_pos1,\n",
    "                                                         SWING_HEIGHT, time_stp0, time_stp1, SAMPLE_TIME)\n",
    "    \n",
    "    swing_pos = q_swing_rel + body_pos_abs\n",
    "    swing_foot_state = np.array([q_swing_rel[0, :], qd_swing_rel[0, :], q_swing_rel[1, :], qd_swing_rel[1, :],\n",
    "                                 q_swing_rel[2, :], qd_swing_rel[2, :]])\n",
    "    \n",
    "    if step_infos[idx].mode == 'singlesupportleft':\n",
    "        l_foot = stance_foot_pos_rel\n",
    "        r_foot = swing_foot_state\n",
    "        finfo = FootInfo(step_infos[idx].time_vec, l_foot, r_foot)\n",
    "        foot_infos.append(finfo)\n",
    "    elif step_infos[idx].mode == 'singlesupportright':\n",
    "        l_foot = swing_foot_state\n",
    "        r_foot = stance_foot_pos_rel\n",
    "        finfo = FootInfo(step_infos[idx].time_vec, l_foot, r_foot)\n",
    "        foot_infos.append(finfo) "
   ]
  },
  {
   "cell_type": "code",
   "execution_count": 23,
   "id": "ce072d5b-cd52-44a4-9289-58a068040768",
   "metadata": {},
   "outputs": [],
   "source": [
    "with open('foot_infos', 'wb') as foot_infos_file:\n",
    "    pickle.dump(foot_infos, foot_infos_file)"
   ]
  },
  {
   "cell_type": "code",
   "execution_count": 33,
   "id": "0fd9278f-a160-432a-9e05-178f90ddb847",
   "metadata": {},
   "outputs": [
    {
     "data": {
      "text/plain": [
       "array([[-1.17770839e-01,  0.00000000e+00, -9.80722485e-02,\n",
       "         0.00000000e+00, -6.80000000e-01,  0.00000000e+00],\n",
       "       [-1.17770932e-01, -3.73267273e-05, -9.80639464e-02,\n",
       "         3.31666882e-03, -6.79983276e-01,  6.67275832e-03],\n",
       "       [-1.17771212e-01, -7.43730133e-05, -9.80391233e-02,\n",
       "         6.60841902e-03, -6.79933440e-01,  1.32448717e-02],\n",
       "       ...,\n",
       "       [-1.19999542e-01, -8.17486176e-05,  9.99592732e-02,\n",
       "         7.26377883e-03, -6.79918873e-01, -1.45471193e-02],\n",
       "       [-1.19999858e-01, -4.47584198e-05,  9.99873855e-02,\n",
       "         3.97701235e-03, -6.79975270e-01, -7.99517890e-03],\n",
       "       [-1.19999989e-01, -7.48778075e-06,  9.99990018e-02,\n",
       "         6.65327254e-04, -6.79998657e-01, -1.34259424e-03]])"
      ]
     },
     "execution_count": 33,
     "metadata": {},
     "output_type": "execute_result"
    }
   ],
   "source": [
    "foot_infos[-1].foot_left.T"
   ]
  }
 ],
 "metadata": {
  "kernelspec": {
   "display_name": "Python 3",
   "language": "python",
   "name": "python3"
  },
  "language_info": {
   "codemirror_mode": {
    "name": "ipython",
    "version": 3
   },
   "file_extension": ".py",
   "mimetype": "text/x-python",
   "name": "python",
   "nbconvert_exporter": "python",
   "pygments_lexer": "ipython3",
   "version": "3.9.1"
  }
 },
 "nbformat": 4,
 "nbformat_minor": 5
}
