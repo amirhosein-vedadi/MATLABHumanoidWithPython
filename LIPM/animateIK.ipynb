{
 "cells": [
  {
   "cell_type": "code",
   "execution_count": 13,
   "id": "62ee184b-164f-42bd-a362-e219f24f1735",
   "metadata": {},
   "outputs": [],
   "source": [
    "import numpy as np\n",
    "import pickle\n",
    "\n",
    "from inv_kin_body2foot import *"
   ]
  },
  {
   "cell_type": "code",
   "execution_count": 14,
   "id": "63316b08-9bdf-4b88-a5e2-4a66b9e0446e",
   "metadata": {},
   "outputs": [],
   "source": [
    "class FootInfo():\n",
    "    def __init__(self, time_vec, foot_left, foot_right):\n",
    "        self.time_vec = time_vec\n",
    "        self.foot_left = foot_left\n",
    "        self.foot_right = foot_right\n",
    "\n",
    "with open('foot_infos', 'rb') as foot_infos_file:\n",
    "    foot_infos = pickle.load(foot_infos_file)"
   ]
  },
  {
   "cell_type": "code",
   "execution_count": 15,
   "id": "5f797837-19eb-4684-8f27-64b1243b229b",
   "metadata": {},
   "outputs": [
    {
     "data": {
      "text/plain": [
       "[<__main__.FootInfo at 0x1647fadeb50>,\n",
       " <__main__.FootInfo at 0x16477737b80>,\n",
       " <__main__.FootInfo at 0x16477737970>,\n",
       " <__main__.FootInfo at 0x1647fb6e370>,\n",
       " <__main__.FootInfo at 0x1647fb6edc0>,\n",
       " <__main__.FootInfo at 0x1647fb6e3a0>,\n",
       " <__main__.FootInfo at 0x1647fb6e7c0>,\n",
       " <__main__.FootInfo at 0x1647fb6e340>]"
      ]
     },
     "execution_count": 15,
     "metadata": {},
     "output_type": "execute_result"
    }
   ],
   "source": [
    "n = np.array([[0], [0], [-1]])\n",
    "s = np.array([[-1], [0], [0]])\n",
    "a = np.array([[0], [1], [0]])\n",
    "R = np.block([n, s, a])\n",
    "\n",
    "for fidx in range(len(foot_infos)):\n",
    "    statel = foot_infos[fidx].foot_left[np.ix_([0, 2, 4]), :]\n",
    "    stater = foot_infos[fidx].foot_right[np.ix_([0, 2, 4]), :]\n",
    "    \n",
    "    num_idx = statel.shape[1]\n",
    "    joints_left = np.zeros((6, num_idx))\n",
    "    joints_right = np.zeros((6, num_idx))\n",
    "    trans_mat_left = np.zeros((4, 4, num_idx))\n",
    "    trans_mat_right = np.zeros((4, 4, num_idx))\n",
    "    \n",
    "    for sidx in range(num_idx):\n",
    "        p = statel[:, sidx]\n",
    "        trans_mat = np.block([[R, p],[0, 0, 0, 1]])\n",
    "        is_left = true\n",
    "        q_left = inv_kin_body2foot(trans_mat, is_left)\n",
    "        joints_left[:, sidx]"
   ]
  },
  {
   "cell_type": "code",
   "execution_count": 24,
   "id": "6657453d-0380-4724-a758-d28cde8909ff",
   "metadata": {},
   "outputs": [
    {
     "data": {
      "text/plain": [
       "array([[ 0, -1,  0,  0],\n",
       "       [ 0,  0,  1,  0],\n",
       "       [-1,  0,  0, -1],\n",
       "       [ 0,  0,  0,  1]])"
      ]
     },
     "execution_count": 24,
     "metadata": {},
     "output_type": "execute_result"
    }
   ],
   "source": []
  }
 ],
 "metadata": {
  "kernelspec": {
   "display_name": "Python 3",
   "language": "python",
   "name": "python3"
  },
  "language_info": {
   "codemirror_mode": {
    "name": "ipython",
    "version": 3
   },
   "file_extension": ".py",
   "mimetype": "text/x-python",
   "name": "python",
   "nbconvert_exporter": "python",
   "pygments_lexer": "ipython3",
   "version": "3.9.1"
  }
 },
 "nbformat": 4,
 "nbformat_minor": 5
}
